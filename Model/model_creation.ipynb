{
 "cells": [
  {
   "cell_type": "markdown",
   "metadata": {},
   "source": [
    "Access the libraries used for model building."
   ]
  },
  {
   "cell_type": "code",
   "execution_count": 1,
   "metadata": {},
   "outputs": [],
   "source": [
    "import pandas as pd\n",
    "import numpy as np\n",
    "from sklearn.model_selection import train_test_split\n",
    "import tensorflow as tf"
   ]
  },
  {
   "cell_type": "markdown",
   "metadata": {},
   "source": [
    "Acces the dataset."
   ]
  },
  {
   "cell_type": "code",
   "execution_count": 2,
   "metadata": {},
   "outputs": [
    {
     "name": "stdout",
     "output_type": "stream",
     "text": [
      "   Id Category                     Title  \\\n",
      "0   1     ayam          Ayam Woku Manado   \n",
      "1   2     ayam  Ayam Goreng Tulang Lunak   \n",
      "2   3     ayam          Ayam Cabai Kawin   \n",
      "3   4     ayam               Ayam Geprek   \n",
      "4   6     ayam           Nasi Bakar Ayam   \n",
      "\n",
      "                                         Ingredients  \\\n",
      "0  1 Ekor Ayam Kampung (potong 12)--2 Buah Jeruk ...   \n",
      "1  1 kg ayam (dipotong sesuai selera jangan kecil...   \n",
      "2  1/4 kg ayam--3 buah cabai hijau besar--7 buah ...   \n",
      "3  250 gr daging ayam (saya pakai fillet)--Secuku...   \n",
      "4  1 piring nasi--¹/⁴ fillet ayam, potong kotak, ...   \n",
      "\n",
      "                                               Steps  \\\n",
      "0  Cuci bersih ayam dan tiriskan. Lalu peras jeru...   \n",
      "1  Haluskan bumbu2nya (BaPut, ketumbar, kemiri, k...   \n",
      "2  Panaskan minyak di dalam wajan. Setelah minyak...   \n",
      "3  Goreng ayam seperti ayam krispi--Ulek semua ba...   \n",
      "4  Tumis bumbu halus, masukkan daun salam, serai-...   \n",
      "\n",
      "                              URL  \\\n",
      "0          1_ayam_woku_manado.jpg   \n",
      "1  2_ayam_goreng_tulang_lunak.jpg   \n",
      "2          3_ayam_cabai_kawin.jpg   \n",
      "3               4_ayam_geprek.jpg   \n",
      "4           6_nasi_bakar_ayam.jpg   \n",
      "\n",
      "                                                Type  Temp(cold)  \n",
      "0  Makan Siang--Makan Malam--Hidangan Utama--Lauk...         1.0  \n",
      "1  Makan Pagi--Makan Siang--Hidangan Utama--Lauk ...         0.0  \n",
      "2              Makan Siang--Makan Malam--Lauk Pauk--         0.0  \n",
      "3           Makan Siang--Hidangan Utama--Lauk Pauk--         0.0  \n",
      "4          Makan Pagi--Makan Malam--Hidangan Utama--         0.0  \n"
     ]
    }
   ],
   "source": [
    "data = pd.read_csv('Final_Dataset1.csv')\n",
    "\n",
    "print(data.head())"
   ]
  },
  {
   "cell_type": "markdown",
   "metadata": {},
   "source": [
    "Preparing data for text classification model training."
   ]
  },
  {
   "cell_type": "code",
   "execution_count": 3,
   "metadata": {},
   "outputs": [],
   "source": [
    "data['text'] = data['Title'] + ' ' + data['Ingredients'] + ' ' + data['Steps']\n",
    "X = data['text']\n",
    "y = data['Category']\n",
    "\n",
    "label_encoder = tf.keras.preprocessing.text.Tokenizer()\n",
    "label_encoder.fit_on_texts(y)\n",
    "y_encoded = label_encoder.texts_to_sequences(y)\n",
    "y_categorical = tf.keras.utils.to_categorical(y_encoded)\n",
    "\n",
    "X_train, X_test, y_train, y_test = train_test_split(X, y_categorical, test_size=0.2, random_state=42)\n",
    "\n",
    "tokenizer = tf.keras.preprocessing.text.Tokenizer(num_words=5000)\n",
    "tokenizer.fit_on_texts(X_train)\n",
    "\n",
    "X_train_seq = tokenizer.texts_to_sequences(X_train)\n",
    "X_test_seq = tokenizer.texts_to_sequences(X_test)\n",
    "\n",
    "max_length = max(len(x) for x in X_train_seq)\n",
    "X_train_pad = tf.keras.preprocessing.sequence.pad_sequences(X_train_seq, maxlen=max_length, padding='post')\n",
    "X_test_pad = tf.keras.preprocessing.sequence.pad_sequences(X_test_seq, maxlen=max_length, padding='post')"
   ]
  },
  {
   "cell_type": "code",
   "execution_count": 4,
   "metadata": {},
   "outputs": [],
   "source": [
    "model = tf.keras.Sequential([\n",
    "    tf.keras.layers.Embedding(input_dim=5000, output_dim=128),\n",
    "    tf.keras.layers.Bidirectional(tf.keras.layers.GRU(64)),\n",
    "    tf.keras.layers.Dropout(0.2),\n",
    "    tf.keras.layers.Dense(32, activation='relu'),\n",
    "    tf.keras.layers.Dense(y_categorical.shape[1], activation='softmax')\n",
    "])\n",
    "\n",
    "model.compile(\n",
    "    optimizer='adam',\n",
    "    loss='categorical_crossentropy', \n",
    "    metrics=['accuracy']\n",
    ")"
   ]
  },
  {
   "cell_type": "code",
   "execution_count": 5,
   "metadata": {},
   "outputs": [
    {
     "name": "stdout",
     "output_type": "stream",
     "text": [
      "Epoch 1/5\n",
      "\u001b[1m59/59\u001b[0m \u001b[32m━━━━━━━━━━━━━━━━━━━━\u001b[0m\u001b[37m\u001b[0m \u001b[1m8s\u001b[0m 84ms/step - accuracy: 0.2893 - loss: 1.8873 - val_accuracy: 0.6681 - val_loss: 1.0796\n",
      "Epoch 2/5\n",
      "\u001b[1m59/59\u001b[0m \u001b[32m━━━━━━━━━━━━━━━━━━━━\u001b[0m\u001b[37m\u001b[0m \u001b[1m5s\u001b[0m 77ms/step - accuracy: 0.7787 - loss: 0.7678 - val_accuracy: 0.9447 - val_loss: 0.2500\n",
      "Epoch 3/5\n",
      "\u001b[1m59/59\u001b[0m \u001b[32m━━━━━━━━━━━━━━━━━━━━\u001b[0m\u001b[37m\u001b[0m \u001b[1m5s\u001b[0m 78ms/step - accuracy: 0.9709 - loss: 0.1552 - val_accuracy: 0.9660 - val_loss: 0.1382\n",
      "Epoch 4/5\n",
      "\u001b[1m59/59\u001b[0m \u001b[32m━━━━━━━━━━━━━━━━━━━━\u001b[0m\u001b[37m\u001b[0m \u001b[1m5s\u001b[0m 76ms/step - accuracy: 0.9943 - loss: 0.0513 - val_accuracy: 0.9532 - val_loss: 0.1450\n",
      "Epoch 5/5\n",
      "\u001b[1m59/59\u001b[0m \u001b[32m━━━━━━━━━━━━━━━━━━━━\u001b[0m\u001b[37m\u001b[0m \u001b[1m5s\u001b[0m 78ms/step - accuracy: 0.9909 - loss: 0.0320 - val_accuracy: 0.9617 - val_loss: 0.1287\n"
     ]
    },
    {
     "data": {
      "text/plain": [
       "<keras.src.callbacks.history.History at 0x19daca96a20>"
      ]
     },
     "execution_count": 5,
     "metadata": {},
     "output_type": "execute_result"
    }
   ],
   "source": [
    "model.fit(X_train_pad, y_train, epochs=5, batch_size=16, validation_data=(X_test_pad, y_test))"
   ]
  },
  {
   "cell_type": "code",
   "execution_count": 6,
   "metadata": {},
   "outputs": [
    {
     "name": "stdout",
     "output_type": "stream",
     "text": [
      "\u001b[1m8/8\u001b[0m \u001b[32m━━━━━━━━━━━━━━━━━━━━\u001b[0m\u001b[37m\u001b[0m \u001b[1m0s\u001b[0m 27ms/step - accuracy: 0.9570 - loss: 0.1482\n",
      "Test Accuracy: 0.96\n"
     ]
    }
   ],
   "source": [
    "loss, accuracy = model.evaluate(X_test_pad, y_test)\n",
    "print(f'Test Accuracy: {accuracy:.2f}')"
   ]
  },
  {
   "cell_type": "code",
   "execution_count": null,
   "metadata": {},
   "outputs": [],
   "source": [
    "def recommend_recipe(CategoryUser , TempUser , TimeUser ):\n",
    "    temp_condition = 1 if TempUser  <= 27 else 0\n",
    "    \n",
    "    if 6 <= TimeUser  < 10:\n",
    "        type_condition = \"Makan Pagi\"\n",
    "    elif 11 <= TimeUser  < 14:\n",
    "        type_condition = \"Makan Siang\"\n",
    "    elif 18 <= TimeUser  < 21:\n",
    "        type_condition = \"Makan Malam\"\n",
    "    else:\n",
    "        type_condition = None\n",
    "\n",
    "    filtered_data = data[(data['Category'] == CategoryUser ) & (data['Temp(cold)'] == temp_condition)]\n",
    "    \n",
    "    if type_condition:\n",
    "        filtered_data = filtered_data[filtered_data['Type'].str.contains(type_condition)]\n",
    "    \n",
    "    filtered_data.loc[:, 'score'] = filtered_data['text'].apply(\n",
    "        lambda x: model.predict(tf.keras.preprocessing.sequence.pad_sequences(tokenizer.texts_to_sequences([x]), \n",
    "                                                                              maxlen=max_length, padding='post')\n",
    "                                                                              ).max())\n",
    "    \n",
    "    recommendations = filtered_data[['Id', 'Title', 'Type', 'Temp(cold)', 'score']].sort_values(by='score', ascending=False)\n",
    "    return recommendations.head(12)"
   ]
  },
  {
   "cell_type": "code",
   "execution_count": null,
   "metadata": {},
   "outputs": [],
   "source": [
    "# Contoh penggunaan fungsi rekomendasi\n",
    "CategoryUser  = \"telur\"\n",
    "TempUser  = 30\n",
    "TimeUser  = 12\n",
    "recommended_recipes = recommend_recipe(CategoryUser , TempUser , TimeUser )\n",
    "print(recommended_recipes)"
   ]
  },
  {
   "cell_type": "code",
   "execution_count": null,
   "metadata": {},
   "outputs": [],
   "source": [
    "model.save('Recipe_Recomendation_Model_v2.h5')\n",
    "print(\"Model telah disimpan dalam format .h5\")"
   ]
  },
  {
   "cell_type": "code",
   "execution_count": null,
   "metadata": {},
   "outputs": [],
   "source": []
  }
 ],
 "metadata": {
  "kernelspec": {
   "display_name": "Python 3",
   "language": "python",
   "name": "python3"
  },
  "language_info": {
   "codemirror_mode": {
    "name": "ipython",
    "version": 3
   },
   "file_extension": ".py",
   "mimetype": "text/x-python",
   "name": "python",
   "nbconvert_exporter": "python",
   "pygments_lexer": "ipython3",
   "version": "3.12.6"
  }
 },
 "nbformat": 4,
 "nbformat_minor": 2
}
